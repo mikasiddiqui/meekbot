{
 "cells": [
  {
   "cell_type": "code",
   "execution_count": 1,
   "metadata": {
    "collapsed": true
   },
   "outputs": [],
   "source": [
    "from chatterbot import ChatBot\n",
    "import pandas as pd\n",
    "from chatterbot.trainers import ListTrainer"
   ]
  },
  {
   "cell_type": "code",
   "execution_count": 2,
   "metadata": {},
   "outputs": [],
   "source": [
    "interview_df = pd.read_csv(\"data/interview_questions_1.csv\")\n",
    "interview_df = interview_df[~interview_df['answers'].isin(['NO'])]"
   ]
  },
  {
   "cell_type": "code",
   "execution_count": 3,
   "metadata": {},
   "outputs": [],
   "source": [
    "full_data = []\n",
    "for i in range(interview_df.shape[0]):\n",
    "    full_data += [\n",
    "        interview_df['questions'].iloc[i].replace(\"\\xa0\", \" \").lower(), \n",
    "        interview_df['answers'].iloc[i].replace(\"\\xa0\", \" \")\n",
    "    ]"
   ]
  },
  {
   "cell_type": "code",
   "execution_count": 4,
   "metadata": {},
   "outputs": [
    {
     "name": "stdout",
     "output_type": "stream",
     "text": [
      "[nltk_data] Downloading package averaged_perceptron_tagger to\n",
      "[nltk_data]     C:\\Users\\Mika\\AppData\\Roaming\\nltk_data...\n",
      "[nltk_data]   Package averaged_perceptron_tagger is already up-to-\n",
      "[nltk_data]       date!\n",
      "[nltk_data] Downloading package stopwords to\n",
      "[nltk_data]     C:\\Users\\Mika\\AppData\\Roaming\\nltk_data...\n",
      "[nltk_data]   Package stopwords is already up-to-date!\n",
      "List Trainer: [####################] 100%\n"
     ]
    }
   ],
   "source": [
    "# Create a new instance of a ChatBot\n",
    "chatbot = ChatBot(\n",
    "    'Meekbot',\n",
    "    storage_adapter='chatterbot.storage.SQLStorageAdapter',\n",
    "    logic_adapters=[\n",
    "        {\n",
    "            'import_path': 'chatterbot.logic.BestMatch',\n",
    "            'default_response': 'I am sorry, but I do not understand.',\n",
    "            'maximum_similarity_threshold': 0.30\n",
    "        }\n",
    "    ]\n",
    ")\n",
    "\n",
    "trainer = ListTrainer(chatbot)\n",
    "\n",
    "trainer = ListTrainer(chatbot)\n",
    "trainer.train(full_data)"
   ]
  },
  {
   "cell_type": "code",
   "execution_count": 5,
   "metadata": {},
   "outputs": [
    {
     "data": {
      "text/plain": [
       "<Statement text:I'm very passionate about Data Science!>"
      ]
     },
     "execution_count": 5,
     "metadata": {},
     "output_type": "execute_result"
    }
   ],
   "source": [
    "response = chatbot.get_response(\"why should we hire you?\")\n",
    "response"
   ]
  },
  {
   "cell_type": "markdown",
   "metadata": {},
   "source": [
    "#### TO DO\n",
    "\n",
    "* List of interview questions DONE\n",
    "* List of general questions DONE\n",
    "\n",
    "* More interview questions\n",
    "* Replace some grammatical examples (your, ur)\n",
    "* Try cleaning inputs to be consistent with training inputs (help with grammatical differences)\n",
    "\n",
    "* Use some existing training data too ( basic conversations )\n",
    "* Use some existing interview answers for basic questions DONE\n",
    "* Code emotions directly to responses\n",
    "\n",
    "* Use conversational emotion dataset for Meekbot's pet (Cakebot?), just reacts to emotions\n",
    "* Cakebot controls the whole website, so if you make it feel bad the website will reflect (css styling change)\n",
    "* Topics (Like if you ask about job shit) will trigger some data visualization, almost like my CV but cooler :)\n",
    "* Can code topics or triggers directly to responses"
   ]
  },
  {
   "cell_type": "code",
   "execution_count": null,
   "metadata": {
    "collapsed": true
   },
   "outputs": [],
   "source": []
  }
 ],
 "metadata": {
  "kernelspec": {
   "display_name": "Python 3",
   "language": "python",
   "name": "python3"
  },
  "language_info": {
   "codemirror_mode": {
    "name": "ipython",
    "version": 3
   },
   "file_extension": ".py",
   "mimetype": "text/x-python",
   "name": "python",
   "nbconvert_exporter": "python",
   "pygments_lexer": "ipython3",
   "version": "3.6.2"
  }
 },
 "nbformat": 4,
 "nbformat_minor": 2
}

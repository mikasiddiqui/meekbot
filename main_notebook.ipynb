{
 "cells": [
  {
   "cell_type": "code",
   "execution_count": 1,
   "metadata": {},
   "outputs": [],
   "source": [
    "from chatterbot import ChatBot\n",
    "\n",
    "from chatterbot.trainers import ListTrainer"
   ]
  },
  {
   "cell_type": "code",
   "execution_count": 44,
   "metadata": {},
   "outputs": [
    {
     "name": "stdout",
     "output_type": "stream",
     "text": [
      "[nltk_data] Downloading package averaged_perceptron_tagger to\n",
      "[nltk_data]     C:\\Users\\Mika\\AppData\\Roaming\\nltk_data...\n",
      "[nltk_data]   Package averaged_perceptron_tagger is already up-to-\n",
      "[nltk_data]       date!\n",
      "[nltk_data] Downloading package stopwords to\n",
      "[nltk_data]     C:\\Users\\Mika\\AppData\\Roaming\\nltk_data...\n",
      "[nltk_data]   Package stopwords is already up-to-date!\n",
      "List Trainer: [####################] 100%\n",
      "List Trainer: [####################] 100%\n",
      "List Trainer: [####################] 100%\n",
      "List Trainer: [####################] 100%\n"
     ]
    }
   ],
   "source": [
    "# Create a new instance of a ChatBot\n",
    "chatbot = ChatBot(\n",
    "    'Meekbot',\n",
    "    storage_adapter='chatterbot.storage.SQLStorageAdapter',\n",
    "    logic_adapters=[\n",
    "        {\n",
    "            'import_path': 'chatterbot.logic.BestMatch',\n",
    "            'default_response': 'I am sorry, but I do not understand.',\n",
    "            'maximum_similarity_threshold': 0.30\n",
    "        }\n",
    "    ]\n",
    ")\n",
    "\n",
    "trainer = ListTrainer(chatbot)\n",
    "\n",
    "trainer = ListTrainer(chatbot)\n",
    "trainer.train([\n",
    "    \"fuck you\",\n",
    "    \"Don't be so rude!\",\n",
    "    \"what is your name\",\n",
    "    \"Hi there, my name is Meekbot!\",\n",
    "    \"who are you\",\n",
    "    \"I'm actually an identical clone of Mika, the human version of myself. I'm also smarter and cooler.\",\n",
    "    \"what do you do for a living\",\n",
    "    \"I'm a data scientist!\",\n",
    "    \"are you looking for a job\",\n",
    "    \"Yes I am!\"\n",
    "])\n",
    "trainer.train([\n",
    "    \"what do you do\",\n",
    "    \"I'm a data scientist!\",\n",
    "])\n",
    "trainer.train([\n",
    "    \"whats your name\",\n",
    "    \"Hi there, my name is Meekbot!\",\n",
    "])\n",
    "trainer.train([\n",
    "    \"what do u do?\",\n",
    "    \"I'm a data scientist!\",\n",
    "])"
   ]
  },
  {
   "cell_type": "code",
   "execution_count": 52,
   "metadata": {},
   "outputs": [
    {
     "data": {
      "text/plain": [
       "<Statement text:Hi there, my name is Meekbot!>"
      ]
     },
     "execution_count": 52,
     "metadata": {},
     "output_type": "execute_result"
    }
   ],
   "source": [
    "response = chatbot.get_response('whats your name')\n",
    "response"
   ]
  },
  {
   "cell_type": "markdown",
   "metadata": {},
   "source": [
    "#### TO DO\n",
    "* List of interview questions\n",
    "* List of general questions\n",
    "* Replace some grammatical examples\n",
    "* Try cleaning inputs to be consistent with training inputs\n",
    "* Use some existing training data too ( basic conversation )\n",
    "* Use some existing interview answers for basic questions"
   ]
  },
  {
   "cell_type": "code",
   "execution_count": null,
   "metadata": {
    "collapsed": true
   },
   "outputs": [],
   "source": []
  }
 ],
 "metadata": {
  "kernelspec": {
   "display_name": "Python 3",
   "language": "python",
   "name": "python3"
  },
  "language_info": {
   "codemirror_mode": {
    "name": "ipython",
    "version": 3
   },
   "file_extension": ".py",
   "mimetype": "text/x-python",
   "name": "python",
   "nbconvert_exporter": "python",
   "pygments_lexer": "ipython3",
   "version": "3.6.2"
  }
 },
 "nbformat": 4,
 "nbformat_minor": 2
}
